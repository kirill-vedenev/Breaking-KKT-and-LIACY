{
 "cells": [
  {
   "cell_type": "markdown",
   "id": "0317f901-a7c6-4ec9-9168-0f67d5fb3c5c",
   "metadata": {},
   "source": [
    "## Key generation and encryption"
   ]
  },
  {
   "cell_type": "code",
   "execution_count": 1,
   "id": "86cd1e32-15b5-4a64-aea4-bc842d17bb2c",
   "metadata": {},
   "outputs": [],
   "source": [
    "q = 131\n",
    "n = 128\n",
    "k = n // 2\n",
    "min_dist = n - k + 1\n",
    "num_eras = min_dist // 3\n",
    "t = (min_dist - num_eras - 1) // 2\n",
    "\n",
    "F.<z> = GF(q)\n",
    "Fstar = [i for i in F if i != 0]\n",
    "X = sample(Fstar, n)\n",
    "Y = sample(Fstar, n)\n",
    "C = codes.GeneralizedReedSolomonCode(X, k, Y)\n",
    "G = C.generator_matrix()\n",
    "\n",
    "M = random_matrix(F, n)\n",
    "while M.rank() != n:\n",
    "    M = random_matrix(F, n)\n",
    "eras_pos = sample(range(n), num_eras)\n",
    "R = zero_matrix(F, n)\n",
    "R[:, eras_pos] = random_matrix(F, n, num_eras)\n",
    "\n",
    "def random_permutation_matrix(n):\n",
    "    perm = Permutations(n).random_element()\n",
    "    M = matrix(F, n, n)\n",
    "    for i in range(n):\n",
    "        M[i, perm(i+1)-1] = F(1)\n",
    "    return M\n",
    "\n",
    "Gpub = (G*M).rref()\n",
    "P = random_permutation_matrix(n)\n",
    "Epub = (random_matrix(F, n, k) * G + R + P)*M\n",
    "\n",
    "# encryption\n",
    "def gen_error(n, t):\n",
    "    res = zero_vector(F, n)\n",
    "    for i in sample(range(n), t):\n",
    "        res[i] = choice(Fstar)\n",
    "    return res\n",
    "\n",
    "msg = random_vector(F, k)\n",
    "e = gen_error(n, t)\n",
    "y_enc = msg * Gpub + e*Epub"
   ]
  },
  {
   "cell_type": "markdown",
   "id": "ff19d98b-b542-42d0-9831-da86ce84a4fd",
   "metadata": {},
   "source": [
    "# The attack"
   ]
  },
  {
   "cell_type": "code",
   "execution_count": 2,
   "id": "882fc74a-51a6-4df0-a7dc-036c081077d7",
   "metadata": {},
   "outputs": [],
   "source": [
    "def square(A):\n",
    "    N = A.nrows()\n",
    "    res = zero_matrix(F, N*(N-1)//2 + N, A.ncols())\n",
    "    r = 0\n",
    "    for i in range(N):\n",
    "        for j in range(i, N):\n",
    "            res[r] = A[i].pairwise_product(A[j])\n",
    "            r += 1\n",
    "    return res\n",
    "\n",
    "def remove_rand_columns_pass(A):\n",
    "    if square(A).rank() == A.ncols():\n",
    "        ns = 1\n",
    "        B = codes.LinearCode(A).shortened([i for i in range(A.ncols() - ns, A.ncols())]).generator_matrix()\n",
    "        while square(B).rank() == B.ncols():\n",
    "            ns += 1\n",
    "            B = codes.LinearCode(A).shortened([i for i in range(A.ncols() - ns, A.ncols())]).generator_matrix()\n",
    "        rr = square(B).rank()\n",
    "        rnd_ind = []\n",
    "        for i in range(0, A.ncols() - ns - 1):\n",
    "            D = codes.LinearCode(A).shortened([i for i in range(A.ncols() - ns, A.ncols())] + [i]).generator_matrix()\n",
    "            if square(D).rank() == rr - 1:\n",
    "                rnd_ind.append(i)\n",
    "        AA = A.delete_columns(rnd_ind)\n",
    "        ns = 0\n",
    "        B = codes.LinearCode(AA).shortened([i for i in range(ns)]).generator_matrix()\n",
    "        while square(B).rank() == B.ncols():\n",
    "            ns += 1\n",
    "            B = codes.LinearCode(AA).shortened([i for i in range(ns)]).generator_matrix()\n",
    "        rr = square(B).rank()\n",
    "        rnd_ind = []\n",
    "        for i in range(ns, AA.ncols()):\n",
    "            D = codes.LinearCode(AA).shortened([i for i in range(ns)] + [i]).generator_matrix()\n",
    "            if square(D).rank() == rr - 1:\n",
    "                rnd_ind.append(i)\n",
    "        return AA.delete_columns(rnd_ind)\n",
    "    else:\n",
    "        rr = square(A).rank()\n",
    "        rnd_ind = []\n",
    "        for i in range(A.ncols()):\n",
    "            if square(A.delete_columns([i])).rank() == rr-1:\n",
    "                rnd_ind.append(i)\n",
    "        return A.delete_columns(rnd_ind)\n",
    "\n",
    "def remove_rand_columns(A):\n",
    "    AA = remove_rand_columns_pass(A)\n",
    "    return remove_rand_columns_pass(AA)\n",
    "\n",
    "def get_punctured_indices(original_matrix, punctured_matrix):\n",
    "    original_cols = original_matrix.columns()\n",
    "    punctured_cols = punctured_matrix.columns()\n",
    "    punctured_indices = []\n",
    "    for i, col in enumerate(original_cols):\n",
    "        if col not in punctured_cols:\n",
    "            punctured_indices.append(i)    \n",
    "    return punctured_indices\n",
    "\n",
    "def recover_GRS_support(G, x0, x1, xk):\n",
    "    n = G.ncols()\n",
    "    k = G.nrows()\n",
    "    G1 = G.rref()\n",
    "    x = [q+1]*n\n",
    "    x[0], x[1], x[k] = x0, x1, xk\n",
    "    count = 3\n",
    "    i = 0; i_ = 1; j_ = k\n",
    "    for j in range(k+1, n):\n",
    "        gamma = (G1[i,j] * G1[i_, j_]) / (G1[i, j_] * G1[i_, j])\n",
    "        denom = (x[j_] - x[i]) - gamma*(x[j_] - x[i_])\n",
    "        if denom != 0:\n",
    "            xj = (x[i_]*(x[j_]-x[i]) - gamma*x[i]*(x[j_] - x[i_])) / denom\n",
    "            if xj in x:\n",
    "                return x, False\n",
    "            x[j] = xj\n",
    "        else:\n",
    "            return x, False\n",
    "    i_ = 0; j = k; j_ = k+1\n",
    "    for i in range(2, k):\n",
    "        gamma = (G1[i,j] * G1[i_, j_]) / (G1[i, j_] * G1[i_, j])\n",
    "        denom = gamma*(x[j_] - x[i_]) - (x[j] - x[i_])\n",
    "        if denom != 0:\n",
    "            xi = (gamma*x[j]*(x[j_]-x[i_]) - (x[j] - x[i_])*x[j_]) / denom\n",
    "            if xi in x:\n",
    "                return x, False\n",
    "            x[i] = xi\n",
    "        else:\n",
    "            return x, False            \n",
    "    return x, True\n",
    "\n",
    "def recover_GRS_multiplier(G, new_x, k):\n",
    "    n_ = len(new_x)\n",
    "    In = identity_matrix(F, n_)\n",
    "    H = codes.GeneralizedReedSolomonCode(new_x, k).parity_check_matrix()\n",
    "    T = matrix([(G * diagonal_matrix(i) * H.T).list() for i in In])\n",
    "    sol = T.left_kernel()\n",
    "    #print(sol.dimension())\n",
    "    b = sol.random_element()\n",
    "    while 0 in b:\n",
    "        b = sol.random_element()\n",
    "    new_y = vector([i^-1 for i in b])\n",
    "    return new_y"
   ]
  },
  {
   "cell_type": "code",
   "execution_count": 3,
   "id": "8f35dabf-6e97-4106-8472-38175322858a",
   "metadata": {},
   "outputs": [],
   "source": [
    "Hpub = codes.LinearCode(Gpub).parity_check_matrix()\n",
    "\n",
    "H1 = Hpub * (Epub.T)\n",
    "G1 = codes.LinearCode(H1).parity_check_matrix()"
   ]
  },
  {
   "cell_type": "code",
   "execution_count": 4,
   "id": "9cb460b7-843e-4b24-95c8-49bc86e7f413",
   "metadata": {},
   "outputs": [
    {
     "data": {
      "text/plain": [
       "(128, 107, True)"
      ]
     },
     "execution_count": 4,
     "metadata": {},
     "output_type": "execute_result"
    }
   ],
   "source": [
    "# Removing non-GRS columns in the resulting scheme\n",
    "\n",
    "G2 = remove_rand_columns(G1)\n",
    "punctured_indices = get_punctured_indices(G1, G2)\n",
    "\n",
    "G1.ncols(), G2.ncols(), G1.ncols() - G2.ncols() == num_eras"
   ]
  },
  {
   "cell_type": "code",
   "execution_count": 5,
   "id": "f495a85f-4df5-469f-9bd5-0abbfd13ca9e",
   "metadata": {},
   "outputs": [],
   "source": [
    "F_list = F.list()\n",
    "j = 2\n",
    "X_recovered, fl = recover_GRS_support(G2, F_list[0], F_list[1], F_list[j])\n",
    "while fl == False:\n",
    "    j += 1\n",
    "    X_recovered, fl = recover_GRS_support(G2, F_list[0], F_list[1], F_list[j])\n",
    "Y_recovered = recover_GRS_multiplier(G2, X_recovered, k)"
   ]
  },
  {
   "cell_type": "code",
   "execution_count": 6,
   "id": "8011a793-20af-4f93-88d9-1c064ab8cf28",
   "metadata": {},
   "outputs": [
    {
     "name": "stdout",
     "output_type": "stream",
     "text": [
      "[0, 1, 88, 24, 2, 78, 10, 121, 107, 38, 74, 48, 103, 39, 50, 101, 3, 128, 32, 73, 41, 35, 25, 130, 66, 123, 82, 59, 18, 31, 87, 77, 84, 17, 80, 14, 127, 43, 5, 58, 28, 56, 75, 37, 7, 12, 71, 126, 68, 116, 112, 62, 65, 97, 89, 64, 46, 111, 57, 113, 120, 115, 110, 114, 4, 52, 122, 81, 42, 8, 60, 102, 15, 92, 72, 55, 91, 34, 109, 23, 47, 90, 118, 63, 98, 117, 106, 99, 61, 36, 76, 29, 19, 13, 51, 108, 26, 96, 53, 69, 100, 54, 30, 79, 85, 33, 129]\n",
      "[0, 1, 88, 24, 2, 78, 10, 121, 107, 38, 74, 48, 103, 39, 50, 101, 3, 128, 32, 73, 41, 35, 25, 130, 66, 123, 82, 59, 18, 31, 87, 77, 84, 17, 80, 14, 127, 43, 5, 58, 28, 56, 75, 37, 7, 12, 71, 126, 68, 116, 112, 62, 65, 97, 89, 64, 46, 111, 57, 113, 120, 115, 110, 114, 4, 52, 122, 81, 42, 8, 60, 102, 15, 92, 72, 55, 91, 34, 109, 23, 47, 90, 118, 63, 98, 117, 106, 99, 61, 36, 76, 29, 19, 13, 51, 108, 26, 96, 53, 69, 100, 54, 30, 79, 85, 33, 129]\n"
     ]
    }
   ],
   "source": [
    "print(X_recovered)\n",
    "print(X_recovered)"
   ]
  },
  {
   "cell_type": "code",
   "execution_count": 7,
   "id": "b0b02a18-b5c4-4493-9285-e3933cbd1b55",
   "metadata": {},
   "outputs": [],
   "source": [
    "C_rec = codes.GeneralizedReedSolomonCode(X_recovered, k, Y_recovered)\n",
    "S = C_rec.generator_matrix().solve_left(G2)"
   ]
  },
  {
   "cell_type": "code",
   "execution_count": 8,
   "id": "25a25326-2705-4830-9472-395cb495ffb0",
   "metadata": {},
   "outputs": [
    {
     "data": {
      "text/plain": [
       "True"
      ]
     },
     "execution_count": 8,
     "metadata": {},
     "output_type": "execute_result"
    }
   ],
   "source": [
    "s = y_enc * Hpub.T\n",
    "# let's check that s == e * (H1.T)\n",
    "s == e * (H1.T)"
   ]
  },
  {
   "cell_type": "code",
   "execution_count": 9,
   "id": "59df2854-388f-4013-b94b-f005fc1b7079",
   "metadata": {},
   "outputs": [
    {
     "data": {
      "text/plain": [
       "(0, 0, 0, 0, 0, 0, 110, 0, 0, 0, 0, 17, 0, 0, 74, 96, 0, 0, 0, 0, 0, 0, 0, 0, 0, 102, 0, 0, 0, 0, 0, 0, 0, 0, 61, 0, 0, 0, 72, 0, 0, 0, 0, 0, 0, 53, 0, 0, 0, 47, 0, 0, 0, 0, 0, 0, 0, 84, 0, 0, 0, 0, 0, 0, 0, 0, 0, 0, 0, 0, 0, 0, 13, 0, 0, 0, 43, 0, 0, 0, 0, 0, 0, 0, 107, 0, 0, 0, 0, 0, 0, 0, 0, 0, 0, 21, 36, 0, 0, 0, 126, 0, 0, 19, 0, 0, 0, 0, 0, 0, 0, 128, 0, 0, 0, 0, 0, 115, 0, 0, 0, 0, 0, 0, 118, 1, 0, 0)"
      ]
     },
     "execution_count": 9,
     "metadata": {},
     "output_type": "execute_result"
    }
   ],
   "source": [
    "# decoding\n",
    "yy = (H1.T).solve_left(s)\n",
    "yy_punct = vector(F, [yy[i] for i in range(n) if i not in punctured_indices])\n",
    "e_rec = yy - (C_rec.decode_to_message(yy_punct) * S^-1) * G1\n",
    "e_rec"
   ]
  },
  {
   "cell_type": "code",
   "execution_count": 10,
   "id": "c09a70a6-039c-417d-84df-80c60c76dab7",
   "metadata": {},
   "outputs": [
    {
     "data": {
      "text/plain": [
       "True"
      ]
     },
     "execution_count": 10,
     "metadata": {},
     "output_type": "execute_result"
    }
   ],
   "source": [
    "e_rec == e"
   ]
  },
  {
   "cell_type": "code",
   "execution_count": 11,
   "id": "456e24b3-8654-43e8-801c-ebd7abc811e4",
   "metadata": {},
   "outputs": [
    {
     "data": {
      "text/plain": [
       "True"
      ]
     },
     "execution_count": 11,
     "metadata": {},
     "output_type": "execute_result"
    }
   ],
   "source": [
    "msg_rec = Gpub.solve_left(y_enc - e_rec*Epub)\n",
    "msg_rec == msg"
   ]
  },
  {
   "cell_type": "code",
   "execution_count": null,
   "id": "a88457f4-3cc5-448a-a5dc-af0101ab19c9",
   "metadata": {},
   "outputs": [],
   "source": []
  },
  {
   "cell_type": "code",
   "execution_count": null,
   "id": "47c2580c-8b23-4671-a4e2-3b8a366ac961",
   "metadata": {},
   "outputs": [],
   "source": []
  }
 ],
 "metadata": {
  "kernelspec": {
   "display_name": "SageMath 10.1",
   "language": "sage",
   "name": "sagemath-10.1"
  },
  "language_info": {
   "codemirror_mode": {
    "name": "ipython",
    "version": 3
   },
   "file_extension": ".py",
   "mimetype": "text/x-python",
   "name": "python",
   "nbconvert_exporter": "python",
   "pygments_lexer": "ipython3",
   "version": "3.11.1"
  }
 },
 "nbformat": 4,
 "nbformat_minor": 5
}
