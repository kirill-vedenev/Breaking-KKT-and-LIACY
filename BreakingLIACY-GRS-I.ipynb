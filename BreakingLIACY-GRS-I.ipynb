{
 "cells": [
  {
   "cell_type": "code",
   "execution_count": 1,
   "id": "e6b1fa65-7d62-4a94-9e23-af8bcc163898",
   "metadata": {},
   "outputs": [],
   "source": [
    "q = 487\n",
    "m = 486\n",
    "r = 496\n",
    "n = 507\n",
    "k = 165"
   ]
  },
  {
   "cell_type": "markdown",
   "id": "7e437ec0-6755-420a-bca8-7b7c79d789b7",
   "metadata": {},
   "source": [
    "## Key Generation"
   ]
  },
  {
   "cell_type": "code",
   "execution_count": 2,
   "id": "4ee904d4-04d9-4a48-b37b-bb2647d719c0",
   "metadata": {},
   "outputs": [],
   "source": [
    "F.<z> = GF(q)\n",
    "Flist = F.list()\n",
    "Fstar = [i for i in F if i != 0]\n",
    "\n",
    "def random_permutation_matrix(n):\n",
    "    perm = Permutations(n).random_element()\n",
    "    M = matrix(F, n, n)\n",
    "    for i in range(n):\n",
    "        M[i, perm(i+1)-1] = F(1)\n",
    "    return M    \n",
    "\n",
    "def homogeneous(n, m):\n",
    "    M = zero_matrix(F, n, m)\n",
    "    M[:m, :m] = random_permutation_matrix(m)\n",
    "    M[m:, :n-m] = identity_matrix(F, n-m)\n",
    "    return random_permutation_matrix(n) * M * random_permutation_matrix(m) \n",
    "\n",
    "def part_perm(r, n):\n",
    "    M = zero_matrix(F, r, n)\n",
    "    M[:, :r] = identity_matrix(F, r)\n",
    "    return M * random_permutation_matrix(n)\n",
    "\n",
    "def gen_error(n, t):\n",
    "    res = zero_vector(F, n)\n",
    "    for i in sample(range(n), t):\n",
    "        res[i] = choice(Fstar)\n",
    "    return res"
   ]
  },
  {
   "cell_type": "code",
   "execution_count": 3,
   "id": "adcb6aee-f36b-433f-a895-546b057004e8",
   "metadata": {},
   "outputs": [],
   "source": [
    "alpha = sample(F.list(), m)\n",
    "beta = [choice(Fstar) for i in range(m)]\n",
    "C = codes.GeneralizedReedSolomonCode(alpha, k, beta)\n",
    "S = random_matrix(F, k)\n",
    "while S.rank() != k:\n",
    "    S = random_matrix(F, k)\n",
    "G = S*C.generator_matrix()\n",
    "\n",
    "G1 = random_matrix(F, k, n)\n",
    "while G1.rank() != k:\n",
    "    G1 = random_matrix(F, k, n)\n",
    "    \n",
    "M1 = random_matrix(F, n)\n",
    "M2 = random_matrix(F, n)\n",
    "while M1.rank() != n:\n",
    "    M1 = random_matrix(F, n)\n",
    "while M2.rank() != n:\n",
    "    M2 = random_matrix(F, n)\n",
    "\n",
    "Q = part_perm(r, n)\n",
    "R = homogeneous(n, m)\n",
    "sol1 = (G1*M1*M2^-1).solve_right(G).T\n",
    "sol2 = (G1*M1*M2^-1).right_kernel_matrix()\n",
    "H2 = sol1 + random_matrix(F, sol1.nrows(), sol2.nrows()) * sol2\n",
    "while H2.rank() != m: \n",
    "    sol2 = (G1*M^-1).right_kernel_matrix()\n",
    "    H2 = sol1 + random_matrix(F, sol1.nrows(), sol2.nrows()) * sol2\n",
    "P = (H2.T).solve_left(R)\n",
    "G2 = (H2.T).left_kernel_matrix()\n",
    "U = random_matrix(F, P.nrows(), G2.nrows())\n",
    "\n",
    "Gpub = G1*M1\n",
    "Epub = Q*(P+U*G2)*M2"
   ]
  },
  {
   "cell_type": "code",
   "execution_count": 4,
   "id": "bc44c44b-cf7c-4486-9348-44aba034dc2f",
   "metadata": {},
   "outputs": [
    {
     "name": "stdout",
     "output_type": "stream",
     "text": [
      "11 454 21\n"
     ]
    }
   ],
   "source": [
    "# checking colunm weights in QR\n",
    "QR = Q*R\n",
    "c0 = 0\n",
    "c1 = 0\n",
    "c2 = 0\n",
    "for i in (QR).columns():\n",
    "    if i.hamming_weight() == 0:\n",
    "        c0 += 1\n",
    "    if i.hamming_weight() == 1:\n",
    "        c1 += 1\n",
    "    if i.hamming_weight() == 2:\n",
    "        c2 += 1 \n",
    "print(c0, c1, c2)"
   ]
  },
  {
   "cell_type": "code",
   "execution_count": 5,
   "id": "70484db6-bacc-4a07-b62b-7de48073bdc6",
   "metadata": {},
   "outputs": [
    {
     "data": {
      "text/plain": [
       "True"
      ]
     },
     "execution_count": 5,
     "metadata": {},
     "output_type": "execute_result"
    }
   ],
   "source": [
    "# Testing\n",
    "msg = random_vector(F, k)\n",
    "err = gen_error(r, (m-k) >> 1)\n",
    "ciphertext = msg*Gpub + err * Epub\n",
    "C.decode_to_message(ciphertext*M2^-1*(H2.T)) == msg * S"
   ]
  },
  {
   "cell_type": "markdown",
   "id": "4096a43d-c5be-4226-9ed4-97bebb761869",
   "metadata": {},
   "source": [
    "## Step 0: Finding auxilary matrices"
   ]
  },
  {
   "cell_type": "code",
   "execution_count": 6,
   "id": "7e5ce6d9-d90c-4ec6-a27f-950b25d2a1eb",
   "metadata": {},
   "outputs": [],
   "source": [
    "# finding M3\n",
    "Gpub_ = block_matrix([\n",
    "    [identity_matrix(F, k), zero_matrix(F, k, n-k)]\n",
    "])\n",
    "M3 = Gpub.solve_right(Gpub_)\n",
    "Gpub_kernel = Gpub.right_kernel_matrix().T\n",
    "while M3.is_singular():\n",
    "    M3 += Gpub_kernel * random_matrix(F, Gpub_kernel.ncols(), n)\n",
    "    \n",
    "Epub_ = Epub*M3"
   ]
  },
  {
   "cell_type": "code",
   "execution_count": 7,
   "id": "38c3ea66-91ac-44ad-92ee-395a59012ad8",
   "metadata": {},
   "outputs": [
    {
     "data": {
      "text/plain": [
       "(11, True)"
      ]
     },
     "execution_count": 7,
     "metadata": {},
     "output_type": "execute_result"
    }
   ],
   "source": [
    "K = Epub_.right_kernel_matrix().T\n",
    "K.rank(), K.rank() == n - r"
   ]
  },
  {
   "cell_type": "code",
   "execution_count": 8,
   "id": "1ae5d7d3-d138-4184-8cfc-b3b9716c4a45",
   "metadata": {},
   "outputs": [],
   "source": [
    "sol1 = K[:k].solve_left(K[:k].rref()) \n",
    "sol2 = K[:k].left_kernel_matrix()\n",
    "A = sol1 + random_matrix(F, k, sol2.nrows()) * sol2\n",
    "while A.is_singular():\n",
    "    A = sol1 + random_matrix(F, k, sol2.nrows()) * sol2"
   ]
  },
  {
   "cell_type": "code",
   "execution_count": 9,
   "id": "0002435d-1ed7-413d-bc3d-84387a942002",
   "metadata": {},
   "outputs": [],
   "source": [
    "A_cal = A[K.rank():]"
   ]
  },
  {
   "cell_type": "markdown",
   "id": "5f8ba4b9-a273-4f54-9336-9bda7b7710df",
   "metadata": {},
   "source": [
    "## Step 1: recovering the set of weight-1 columns of QR"
   ]
  },
  {
   "cell_type": "markdown",
   "id": "6315138a-644f-47b0-aa40-65d28415a81e",
   "metadata": {},
   "source": [
    "An auxilary distingusher of non-GRS columns:"
   ]
  },
  {
   "cell_type": "code",
   "execution_count": 10,
   "id": "00b8befd-4946-4c81-b49f-3d83376fe22e",
   "metadata": {},
   "outputs": [],
   "source": [
    "def square(G):\n",
    "    N = G.nrows()\n",
    "    res = zero_matrix(F, N*(N-1)//2 + N, G.ncols())\n",
    "    r = 0\n",
    "    for i in range(N):\n",
    "        for j in range(i, N):\n",
    "            res[r] = G[i].pairwise_product(G[j])\n",
    "            r += 1\n",
    "    return res\n",
    "\n",
    "def remove_rand_columns_pass(G):\n",
    "    if square(G).rank() == G.ncols():\n",
    "        ns = 0\n",
    "        B = codes.LinearCode(G).shortened([i for i in range(G.ncols() - ns, G.ncols())]).generator_matrix()\n",
    "        while square(G).rank() >= G.ncols() - 2:\n",
    "            ns += 1\n",
    "            B = codes.LinearCode(G).shortened([i for i in range(G.ncols() - ns, G.ncols())]).generator_matrix()\n",
    "        rr = square(B).rank()\n",
    "        rnd_ind = []\n",
    "        for i in range(0, G.ncols() - ns - 1):\n",
    "            D = B.delete_columns([i])\n",
    "            if square(D).rank() == rr - 1:\n",
    "                rnd_ind.append(i)\n",
    "        AA = G.delete_columns(rnd_ind)\n",
    "        ns = 0\n",
    "        B = codes.LinearCode(AA).shortened([i for i in range(ns)]).generator_matrix()\n",
    "        while square(B).rank() >= B.ncols() - 2:\n",
    "            ns += 1\n",
    "            B = codes.LinearCode(AA).shortened([i for i in range(ns)]).generator_matrix()\n",
    "        rr = square(B).rank()\n",
    "        rnd_ind = []\n",
    "        for i in range(ns, AA.ncols()):\n",
    "            D = B.delete_columns([i-ns])\n",
    "            if square(D).rank() == rr - 1:\n",
    "                rnd_ind.append(i)\n",
    "        return AA.delete_columns(rnd_ind)\n",
    "    else:\n",
    "        rr = square(G).rank()\n",
    "        rnd_ind = []\n",
    "        for i in range(G.ncols()):\n",
    "            if square(G.delete_columns([i])).rank() == rr-1:\n",
    "                rnd_ind.append(i)\n",
    "        return G.delete_columns(rnd_ind)\n",
    "\n",
    "def remove_rand_columns(G):\n",
    "    AA = remove_rand_columns_pass(G)\n",
    "    return remove_rand_columns_pass(AA)\n",
    "\n",
    "def get_punctured_indices(original_matrix, punctured_matrix):\n",
    "    original_cols = original_matrix.columns()\n",
    "    punctured_cols = punctured_matrix.columns()\n",
    "    punctured_indices = []\n",
    "    for i, col in enumerate(original_cols):\n",
    "        if col not in punctured_cols:\n",
    "            punctured_indices.append(i)    \n",
    "    return punctured_indices"
   ]
  },
  {
   "cell_type": "code",
   "execution_count": 11,
   "id": "01831086-74c9-4401-98eb-e376676f6575",
   "metadata": {},
   "outputs": [
    {
     "data": {
      "text/plain": [
       "(496, 454)"
      ]
     },
     "execution_count": 11,
     "metadata": {},
     "output_type": "execute_result"
    }
   ],
   "source": [
    "# Finding L\n",
    "L = Epub_.solve_right(identity_matrix(F, r))\n",
    "\n",
    "# getting rid of $E_{pub}$'s kernel \n",
    "T = A_cal*L[:k]\n",
    "\n",
    "# Getting rid of non-GRS columns in T\n",
    "T_J = remove_rand_columns(T)\n",
    "\n",
    "T.ncols(), T_J.ncols()"
   ]
  },
  {
   "cell_type": "code",
   "execution_count": 12,
   "id": "88e828ea-6a8b-4ccc-b196-506bd5a6036e",
   "metadata": {},
   "outputs": [
    {
     "data": {
      "text/plain": [
       "(454, 454, 454)"
      ]
     },
     "execution_count": 12,
     "metadata": {},
     "output_type": "execute_result"
    }
   ],
   "source": [
    "J = get_punctured_indices(T, T_J)\n",
    "\n",
    "W_J = block_matrix([\n",
    "    [identity_matrix(F, r)[:, i] for i in range(r) if i not in J]\n",
    "])\n",
    "\n",
    "# Let's check number of common columns of QR_ and ground truth QR\n",
    "def common_columns(A, B):\n",
    "    common_count = 0\n",
    "    for col_A in A.columns():\n",
    "        for col_B in B.columns():\n",
    "            if col_A == col_B:\n",
    "                common_count += 1\n",
    "                break\n",
    "    return common_count\n",
    "\n",
    "# checking\n",
    "W_J.ncols(), c1, common_columns(W_J, QR)"
   ]
  },
  {
   "cell_type": "markdown",
   "id": "a3b0ee76-632d-4b1a-a586-2df86f84ac35",
   "metadata": {},
   "source": [
    "## Step 2: recovering weight-2 columns of QR"
   ]
  },
  {
   "cell_type": "code",
   "execution_count": 13,
   "id": "786a749f-3cfe-41d2-9786-b8119756e0d1",
   "metadata": {},
   "outputs": [],
   "source": [
    "def zero_rows(G):\n",
    "    zero_indices = [i for i in range(G.nrows()) if G.row(i).is_zero()]\n",
    "    return zero_indices\n",
    "\n",
    "# def checkGRS(G):\n",
    "#     G2 = remove_rand_columns_pass(G)\n",
    "#     if G == G2:\n",
    "#         return True\n",
    "#     return False\n",
    "\n",
    "# slightly more efficient version of the previous function\n",
    "def checkGRS(G):\n",
    "    if square(G).rank() == G.ncols():\n",
    "        ns = 0\n",
    "        G1 = codes.LinearCode(G).shortened([i for i in range(ns)]).generator_matrix()\n",
    "        while square(G1).rank() >= G1.ncols() - 2:\n",
    "            ns += 1\n",
    "            G1 = codes.LinearCode(G).shortened([i for i in range(ns)]).generator_matrix()\n",
    "        rr = square(G1).rank()\n",
    "        D = G1[:, :-1]\n",
    "        if square(D).rank() == rr - 1:\n",
    "            return False\n",
    "    else:\n",
    "        rr = square(G).rank()\n",
    "        if square(G[:, :-1]).rank() == rr-1:\n",
    "            return False\n",
    "    return True\n",
    "\n",
    "def find_new_column(B):\n",
    "    zero_row_inds = zero_rows(B)\n",
    "    for i in range(len(zero_row_inds)):\n",
    "        for j in range(i+1, len(zero_row_inds)):\n",
    "            new_col = zero_vector(F, r)\n",
    "            new_col[zero_row_inds[i]] = 1\n",
    "            new_col[zero_row_inds[j]] = 1\n",
    "            B_test = B.augment(new_col)\n",
    "            T = A_cal * (Epub_.solve_right(B_test)[:k])\n",
    "            if checkGRS(T):\n",
    "                return B_test\n",
    "    return B"
   ]
  },
  {
   "cell_type": "code",
   "execution_count": 14,
   "id": "08e4dfc2-1ae5-448b-a989-e500886072a0",
   "metadata": {},
   "outputs": [
    {
     "name": "stdout",
     "output_type": "stream",
     "text": [
      "+\n",
      "+\n",
      "+\n",
      "+\n",
      "+\n",
      "+\n",
      "+\n",
      "+\n",
      "+\n",
      "+\n",
      "+\n",
      "+\n",
      "+\n",
      "+\n",
      "+\n",
      "+\n",
      "+\n",
      "+\n",
      "+\n",
      "+\n",
      "+\n"
     ]
    }
   ],
   "source": [
    "B = copy(W_J)\n",
    "while B.ncols() != m:\n",
    "    old_B = copy(B)\n",
    "    B = find_new_column(B)\n",
    "    if B == old_B:\n",
    "        break\n",
    "    print(\"+\")"
   ]
  },
  {
   "cell_type": "code",
   "execution_count": 15,
   "id": "37141e2c-5fe9-4695-b2b0-87f94ba377ac",
   "metadata": {},
   "outputs": [
    {
     "data": {
      "text/plain": [
       "(475, 475, 475)"
      ]
     },
     "execution_count": 15,
     "metadata": {},
     "output_type": "execute_result"
    }
   ],
   "source": [
    "# checking\n",
    "B.ncols(), c1 + c2, common_columns(B, QR)"
   ]
  },
  {
   "cell_type": "markdown",
   "id": "95963386-1c9a-41c1-a005-65f1955e975a",
   "metadata": {},
   "source": [
    "## Step 3: finding a partial support of $\\widetilde{C}$ "
   ]
  },
  {
   "cell_type": "code",
   "execution_count": 16,
   "id": "ab5750a4-3b66-4ec7-91e4-796ce4b4b475",
   "metadata": {},
   "outputs": [],
   "source": [
    "Y = Epub_.solve_right(B)\n",
    "\n",
    "G3 = A_cal * Y[:k,:]"
   ]
  },
  {
   "cell_type": "code",
   "execution_count": 17,
   "id": "8af2fcb0-8a78-4485-ab61-af45ed1b5994",
   "metadata": {},
   "outputs": [],
   "source": [
    "def recover_GRS_support(G, x0, x1, xk):\n",
    "    n = G.ncols()\n",
    "    k = G.nrows()\n",
    "    G1 = G.rref()\n",
    "    x = [q+1]*n\n",
    "    x[0], x[1], x[k] = x0, x1, xk\n",
    "    count = 3\n",
    "    i = 0; i_ = 1; j_ = k\n",
    "    for j in range(k+1, n):\n",
    "        gamma = (G1[i,j] * G1[i_, j_]) / (G1[i, j_] * G1[i_, j])\n",
    "        denom = (x[j_] - x[i]) - gamma*(x[j_] - x[i_])\n",
    "        if denom != 0:\n",
    "            xj = (x[i_]*(x[j_]-x[i]) - gamma*x[i]*(x[j_] - x[i_])) / denom\n",
    "            if xj in x:\n",
    "                return x, False\n",
    "            x[j] = xj\n",
    "        else:\n",
    "            return x, False\n",
    "    i_ = 0; j = k; j_ = k+1\n",
    "    for i in range(2, k):\n",
    "        gamma = (G1[i,j] * G1[i_, j_]) / (G1[i, j_] * G1[i_, j])\n",
    "        denom = gamma*(x[j_] - x[i_]) - (x[j] - x[i_])\n",
    "        if denom != 0:\n",
    "            xi = (gamma*x[j]*(x[j_]-x[i_]) - (x[j] - x[i_])*x[j_]) / denom\n",
    "            if xi in x:\n",
    "                return x, False\n",
    "            x[i] = xi\n",
    "        else:\n",
    "            return x, False            \n",
    "    return x, True"
   ]
  },
  {
   "cell_type": "code",
   "execution_count": 18,
   "id": "c216628b-0ca9-45b7-9fd4-8d3976e15f3b",
   "metadata": {},
   "outputs": [
    {
     "name": "stdout",
     "output_type": "stream",
     "text": [
      "13 [0, 1, 329, 319, 443, 307, 6, 214, 297, 91, 144, 135, 257, 465, 479, 450, 460, 433, 434, 155, 281, 101, 185, 351, 429, 380, 77, 261, 56, 406, 377, 14, 7, 245, 191, 44, 48, 357, 360, 457, 46, 369, 266, 367, 201, 453, 59, 441, 336, 62, 51, 393, 13, 389, 260, 310, 203, 250, 148, 436, 325, 430, 11, 321, 173, 445, 63, 175, 87, 94, 220, 259, 311, 341, 184, 472, 90, 386, 395, 33, 70, 40, 467, 174, 350, 477, 84, 100, 391, 12, 335, 83, 138, 440, 193, 242, 41, 130, 476, 227, 249, 145, 108, 169, 73, 353, 292, 69, 26, 196, 420, 317, 207, 439, 299, 421, 423, 313, 343, 36, 211, 198, 247, 279, 372, 358, 171, 361, 352, 244, 356, 43, 296, 354, 272, 412, 23, 275, 147, 401, 442, 468, 373, 215, 150, 435, 27, 234, 107, 119, 344, 411, 387, 323, 45, 384, 419, 314, 223, 300, 375, 194, 235, 190, 398, 24, 22, 409, 105, 269, 464, 212, 80, 182, 304, 289, 328, 158, 459, 221, 222, 285, 89, 312, 408, 228, 362, 253, 388, 327, 57, 79, 295, 32, 85, 164, 106, 15, 428, 219, 333, 383, 131, 181, 66, 72, 146, 116, 60, 473, 355, 270, 170, 168, 475, 466, 414, 368, 461, 189, 403, 427, 431, 151, 454, 16, 81, 298, 82, 197, 337, 230, 400, 448, 416, 167, 237, 28, 348, 154, 58, 126, 482, 123, 256, 104, 93, 339, 385, 157, 110, 265, 112, 291, 483, 303, 456, 208, 187, 305, 390, 142, 55, 71, 241, 20, 470, 231, 35, 165, 210, 284, 326, 143, 417, 243, 332, 232, 425, 424, 374, 10, 216, 88, 53, 129, 288, 268, 438, 199, 280, 462, 218, 29, 246, 226, 4, 204, 2, 262, 42, 263, 267, 195, 233, 78, 471, 68, 30, 405, 239, 95, 209, 381, 404, 290, 251, 444, 109, 282, 418, 200, 378, 225, 365, 206, 463, 394, 410, 161, 481, 449, 103, 47, 117, 340, 178, 320, 364, 277, 102, 74, 366, 132, 149, 402, 152, 205, 140, 396, 258, 67, 345, 286, 99, 5, 52, 192, 229, 37, 254, 349, 469, 331, 114, 484, 452, 113, 399, 252, 236, 371, 415, 124, 111, 422, 316, 96, 276, 274, 446, 478, 17, 294, 379, 447, 308, 98, 120, 474, 118, 486, 9, 437, 127, 172, 397, 64, 455, 451, 115, 188, 176, 306, 128, 122, 264, 302, 141, 407, 31, 177, 318, 338, 359, 38, 163, 137, 370, 342, 86, 346, 248, 426, 97, 480, 347, 432, 238, 271, 382, 134, 330, 376, 162, 65, 273, 255, 34, 224, 278, 156, 92, 25, 18, 293, 136, 287, 180, 283, 160, 50, 153, 61, 54, 485, 363, 21, 121, 392, 315, 186, 322, 159, 301, 8, 309, 183, 240, 334, 75, 139, 166, 49, 39]\n"
     ]
    }
   ],
   "source": [
    "candidate_supports = []\n",
    "\n",
    "G3_sq = codes.LinearCode(square(G3)).generator_matrix().rref()\n",
    "x0, x1 = 0, 1\n",
    "for xk in F.list():\n",
    "    if (xk == 0) or (xk == 1):\n",
    "        continue\n",
    "    fl = False\n",
    "    new_x, fl = recover_GRS_support(G3_sq, x0, x1, xk)\n",
    "    if fl:\n",
    "        candidate_supports.append(new_x)\n",
    "     \n",
    "print(len(candidate_supports), candidate_supports[0])"
   ]
  },
  {
   "cell_type": "markdown",
   "id": "e1a7ef47-f487-4325-9c6d-29ef6bef3ac6",
   "metadata": {},
   "source": [
    "## Step 4: completing the support and recovering the full secret key"
   ]
  },
  {
   "cell_type": "code",
   "execution_count": 19,
   "id": "f51e0537-a964-4ccf-b9fb-44f7964a7afd",
   "metadata": {},
   "outputs": [],
   "source": [
    "YK = Y.augment(K)\n",
    "\n",
    "G4 = YK[:k,:]"
   ]
  },
  {
   "cell_type": "code",
   "execution_count": 20,
   "id": "26e9ee13-bcef-401a-b0e1-1e77f9d69316",
   "metadata": {},
   "outputs": [],
   "source": [
    "# some stuff to solve matrix equation in SageMath\n",
    "def fold(v, m_, rk, l):\n",
    "    M = zero_matrix(F, m_ + rk, m_ + l)\n",
    "    M[0:m_, 0:m_] = diagonal_matrix(v[:m_])\n",
    "    M[m_:] = matrix(F, rk, m_ + l, v[m_:])\n",
    "    return M"
   ]
  },
  {
   "cell_type": "code",
   "execution_count": 21,
   "id": "43c9ec72-2e94-402c-b537-ab89418abbce",
   "metadata": {},
   "outputs": [],
   "source": [
    "alpha_ = candidate_supports[0]"
   ]
  },
  {
   "cell_type": "code",
   "execution_count": 22,
   "id": "e0f04f4b-0c41-4f28-8ab3-ffb58378ceb8",
   "metadata": {},
   "outputs": [
    {
     "name": "stdout",
     "output_type": "stream",
     "text": [
      "+\n"
     ]
    }
   ],
   "source": [
    "afull = copy(alpha_)\n",
    "# case when there's no zero columns in QR\n",
    "if len(alpha_) == m:\n",
    "    l = 0\n",
    "    num_of_unknowns = (c1 + c2) + K.ncols()*(c1+c2+l)\n",
    "    I_nou = identity_matrix(F, num_of_unknowns)\n",
    "    RS_pc_mat = codes.GeneralizedReedSolomonCode(alpha_, k).parity_check_matrix()\n",
    "    tmp = matrix([(G4 * fold(i, c1 + c2, K.ncols(), l) * RS_pc_mat.T).list() for i in I_nou])\n",
    "    sol = tmp.left_kernel()\n",
    "    X = fold(sol.random_element(), c1 + c2, K.ncols(), l)\n",
    "    if (G4*X).rank() != m:\n",
    "        X = fold(sol.random_element(), c1 + c2, K.ncols(), l)\n",
    "\n",
    "# general case\n",
    "import itertools\n",
    "l = m-c1-c2\n",
    "fl = False\n",
    "for Gamma in map(list, itertools.combinations([i for i in F if i not in alpha_], l)):\n",
    "    num_of_unknowns = (c1 + c2) + K.ncols()*(c1+c2+l)\n",
    "    I_nou = identity_matrix(F, num_of_unknowns)\n",
    "    RS_pc_mat = codes.GeneralizedReedSolomonCode(alpha_ + Gamma, k).parity_check_matrix()\n",
    "    tmp = matrix([(G4 * fold(i, c1 + c2, K.ncols(), l) * RS_pc_mat.T).list() for i in I_nou])\n",
    "    sol = tmp.left_kernel()\n",
    "    if sol.dimension() == 0:\n",
    "        continue\n",
    "    for j in range(10):\n",
    "        a_ = sol.random_element()\n",
    "        if (0 not in a_[:c1+c2]) and (rank(G4*fold(a_, c1 + c2, K.ncols(), l)) == k):\n",
    "            X = fold(a_, c1 + c2, K.ncols(), l)\n",
    "            afull = alpha_ + Gamma\n",
    "            fl = True\n",
    "            print(\"+\")\n",
    "            break\n",
    "    if fl:\n",
    "        break    \n",
    "    print(\"-\")"
   ]
  },
  {
   "cell_type": "code",
   "execution_count": 23,
   "id": "b43aac69-545f-40c8-a5b0-a4616f44a6bf",
   "metadata": {},
   "outputs": [
    {
     "data": {
      "text/plain": [
       "((50, 284, 320, 234, 475, 180, 389, 146, 421, 65, 143, 219, 311, 375, 40, 467, 155, 264, 299, 108, 479, 356, 278, 46, 272, 29, 470, 7, 481, 2, 282, 331, 367, 271, 163, 370, 404, 461, 164, 423, 442, 144, 168, 412, 370, 473, 374, 246, 310, 29, 107, 36, 93, 460, 199, 471, 152, 210, 218, 473, 208, 316, 93, 280, 249, 34, 234, 172, 366, 127, 155, 347, 363, 377, 441, 188, 52, 421, 472, 387, 82, 130, 266, 46, 437, 417, 253, 148, 218, 220, 251, 317, 314, 98, 428, 274, 299, 328, 25, 451, 156, 440, 238, 90, 372, 187, 294, 369, 112, 240, 242, 239, 246, 385, 272, 374, 20, 183, 167, 408, 238, 160, 159, 82, 111, 194, 163, 406, 61, 205, 228, 68, 191, 421, 427, 453, 27, 432, 391, 199, 351, 290, 24, 286, 461, 409, 483, 408, 54, 45, 166, 193, 415, 280, 453, 414, 425, 474, 97, 360, 87, 143, 281, 339, 229),\n",
       " (50, 284, 320, 234, 475, 180, 389, 146, 421, 65, 143, 219, 311, 375, 40, 467, 155, 264, 299, 108, 479, 356, 278, 46, 272, 29, 470, 7, 481, 2, 282, 331, 367, 271, 163, 370, 404, 461, 164, 423, 442, 144, 168, 412, 370, 473, 374, 246, 310, 29, 107, 36, 93, 460, 199, 471, 152, 210, 218, 473, 208, 316, 93, 280, 249, 34, 234, 172, 366, 127, 155, 347, 363, 377, 441, 188, 52, 421, 472, 387, 82, 130, 266, 46, 437, 417, 253, 148, 218, 220, 251, 317, 314, 98, 428, 274, 299, 328, 25, 451, 156, 440, 238, 90, 372, 187, 294, 369, 112, 240, 242, 239, 246, 385, 272, 374, 20, 183, 167, 408, 238, 160, 159, 82, 111, 194, 163, 406, 61, 205, 228, 68, 191, 421, 427, 453, 27, 432, 391, 199, 351, 290, 24, 286, 461, 409, 483, 408, 54, 45, 166, 193, 415, 280, 453, 414, 425, 474, 97, 360, 87, 143, 281, 339, 229))"
      ]
     },
     "execution_count": 23,
     "metadata": {},
     "output_type": "execute_result"
    }
   ],
   "source": [
    "G5 = G4*X\n",
    "C_rec = codes.GeneralizedReedSolomonCode(afull, k)\n",
    "S_rec = C_rec.generator_matrix().solve_left(G5)\n",
    "\n",
    "ciphertext_ = ciphertext * M3 * YK * X\n",
    "msg_rec = C_rec.decode_to_message(ciphertext_) * S_rec^-1\n",
    "\n",
    "msg_rec, msg"
   ]
  },
  {
   "cell_type": "code",
   "execution_count": null,
   "id": "c31cdcdc-7030-4730-b53a-f8ea0d027426",
   "metadata": {},
   "outputs": [],
   "source": []
  }
 ],
 "metadata": {
  "kernelspec": {
   "display_name": "SageMath 10.1",
   "language": "sage",
   "name": "sagemath-10.1"
  },
  "language_info": {
   "codemirror_mode": {
    "name": "ipython",
    "version": 3
   },
   "file_extension": ".py",
   "mimetype": "text/x-python",
   "name": "python",
   "nbconvert_exporter": "python",
   "pygments_lexer": "ipython3",
   "version": "3.11.1"
  }
 },
 "nbformat": 4,
 "nbformat_minor": 5
}
